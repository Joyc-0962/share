{
 "cells": [
  {
   "cell_type": "markdown",
   "metadata": {},
   "source": [
    "## 基本多線程(threading)"
   ]
  },
  {
   "cell_type": "code",
   "execution_count": 19,
   "metadata": {},
   "outputs": [
    {
     "name": "stdout",
     "output_type": "stream",
     "text": [
      "This is a thread of <Thread(Thread-27, started 22208)>\n"
     ]
    }
   ],
   "source": [
    "import threading\n",
    "def thread_job():\n",
    "    print('This is a thread of %s' % threading.current_thread())\n",
    "\n",
    "def main():\n",
    "    thread = threading.Thread(target=thread_job,)   # 定义线程 \n",
    "    thread.start()  # 让线程开始工作\n",
    "    \n",
    "if __name__ == '__main__':\n",
    "    main()"
   ]
  },
  {
   "cell_type": "markdown",
   "metadata": {},
   "source": [
    "## join()"
   ]
  },
  {
   "cell_type": "markdown",
   "metadata": {},
   "source": [
    "### 範例一"
   ]
  },
  {
   "cell_type": "code",
   "execution_count": 21,
   "metadata": {},
   "outputs": [
    {
     "name": "stdout",
     "output_type": "stream",
     "text": [
      "T1 start\n",
      "\n",
      "T1 finish\n",
      "\n",
      "all done\n",
      "\n"
     ]
    }
   ],
   "source": [
    "import threading\n",
    "import time\n",
    "\n",
    "def thread_job():\n",
    "    print(\"T1 start\\n\")\n",
    "    time.sleep(1) \n",
    "    print(\"T1 finish\\n\")\n",
    "\n",
    "added_thread = threading.Thread(target=thread_job, name='T1')\n",
    "added_thread.start()\n",
    "added_thread.join()\n",
    "print(\"all done\\n\")"
   ]
  },
  {
   "cell_type": "markdown",
   "metadata": {},
   "source": [
    "### 範例二"
   ]
  },
  {
   "cell_type": "code",
   "execution_count": 25,
   "metadata": {},
   "outputs": [
    {
     "name": "stdout",
     "output_type": "stream",
     "text": [
      "T1 start\n",
      "\n",
      "T2 start\n",
      "\n",
      "T2 finish\n",
      "\n",
      "T1 finish\n",
      "\n",
      "all done\n",
      "\n"
     ]
    }
   ],
   "source": [
    "import threading\n",
    "import time\n",
    "\n",
    "def thread_job():\n",
    "    print(\"T1 start\\n\")\n",
    "    time.sleep(1) \n",
    "    print(\"T1 finish\\n\")\n",
    "def T2():#執行速度比較快\n",
    "    print(\"T2 start\\n\") \n",
    "    time.sleep(0.1) \n",
    "    print(\"T2 finish\\n\")\n",
    "added_thread = threading.Thread(target=thread_job, name='T1')\n",
    "thread2 = threading.Thread(target=T2, name='T2')\n",
    "added_thread.start()\n",
    "thread2.start()\n",
    "# 打開哪個join()，all done就會在哪個後面開始執行\n",
    "added_thread.join()\n",
    "thread2.join()\n",
    "print(\"all done\\n\")"
   ]
  },
  {
   "cell_type": "markdown",
   "metadata": {},
   "source": [
    "## Queue"
   ]
  },
  {
   "cell_type": "code",
   "execution_count": 5,
   "metadata": {},
   "outputs": [
    {
     "name": "stdout",
     "output_type": "stream",
     "text": [
      "要進queue囉 [1, 4, 9]\n",
      "要進queue囉 [9, 16, 25]\n",
      "要進queue囉 [16, 16, 16]\n",
      "要進queue囉 [25, 25, 25]\n",
      "[[1, 4, 9], [9, 16, 25], [16, 16, 16], [25, 25, 25]]\n"
     ]
    }
   ],
   "source": [
    "import threading\n",
    "import time\n",
    "import random\n",
    "from queue import Queue\n",
    "\n",
    "def job(l,q):\n",
    "#     num=random.randint(1,5)\n",
    "#     time.sleep(0.1*num)\n",
    "    for i in range (len(l)):\n",
    "        l[i] = l[i]**2\n",
    "    print(\"要進queue囉\",l)\n",
    "    q.put(l)\n",
    "\n",
    "def multithreading():\n",
    "    q =Queue()\n",
    "    threads = []\n",
    "    data = [[1,2,3],[3,4,5],[4,4,4],[5,5,5]]\n",
    "    for i in range(4):\n",
    "        t = threading.Thread(target=job,args=(data[i],q))\n",
    "        t.start()\n",
    "        threads.append(t)\n",
    "    for thread in threads:\n",
    "        thread.join()\n",
    "    results = []\n",
    "    for _ in range(4):\n",
    "        results.append(q.get())\n",
    "    print(results)\n",
    "\n",
    "if __name__=='__main__':\n",
    "    multithreading()\n"
   ]
  },
  {
   "cell_type": "markdown",
   "metadata": {},
   "source": [
    "## Lock"
   ]
  },
  {
   "cell_type": "markdown",
   "metadata": {},
   "source": [
    "### 範例一"
   ]
  },
  {
   "cell_type": "code",
   "execution_count": 26,
   "metadata": {},
   "outputs": [
    {
     "name": "stdout",
     "output_type": "stream",
     "text": [
      "job1 1\n",
      "job1 2\n",
      "job1 3\n",
      "job1 4job2 14\n",
      "job2 24\n",
      "job2 34\n",
      "job1 35\n",
      "job1 36\n",
      "\n",
      "job2 46\n",
      "job2 56\n",
      "job2 job1 67\n",
      "job1 68\n",
      "job1 69\n",
      "job166\n",
      "job2 80\n",
      " 70\n",
      "job2 90\n",
      "job2 100\n",
      "job2 110\n"
     ]
    }
   ],
   "source": [
    "import threading\n",
    "\n",
    "def job1():\n",
    "    global A\n",
    "    for i in range(10):\n",
    "        A+=1\n",
    "        print('job1',A)\n",
    "\n",
    "def job2():\n",
    "    global A\n",
    "    for i in range(10):\n",
    "        A+=10\n",
    "        print('job2',A)\n",
    "\n",
    "if __name__== '__main__':\n",
    "    A=0\n",
    "    t1=threading.Thread(target=job1)\n",
    "    t2=threading.Thread(target=job2)\n",
    "    t1.start()\n",
    "    t2.start()\n",
    "    t1.join()\n",
    "    t2.join()"
   ]
  },
  {
   "cell_type": "markdown",
   "metadata": {},
   "source": [
    "### 範例二"
   ]
  },
  {
   "cell_type": "code",
   "execution_count": 27,
   "metadata": {},
   "outputs": [
    {
     "name": "stdout",
     "output_type": "stream",
     "text": [
      "job1 1\n",
      "job1 2\n",
      "job1 3\n",
      "job1 4\n",
      "job1 5\n",
      "job1 6\n",
      "job1 7\n",
      "job1 8\n",
      "job1 9\n",
      "job1 10\n",
      "job2 20\n",
      "job2 30\n",
      "job2 40\n",
      "job2 50\n",
      "job2 60\n",
      "job2 70\n",
      "job2 80\n",
      "job2 90\n",
      "job2 100\n",
      "job2 110\n"
     ]
    }
   ],
   "source": [
    "import threading\n",
    "\n",
    "def job1():\n",
    "    global A,lock\n",
    "    lock.acquire()\n",
    "    for i in range(10):\n",
    "        A+=1\n",
    "        print('job1',A)\n",
    "    lock.release()\n",
    "\n",
    "def job2():\n",
    "    global A,lock\n",
    "    lock.acquire()\n",
    "    for i in range(10):\n",
    "        A+=10\n",
    "        print('job2',A)\n",
    "    lock.release()\n",
    "\n",
    "if __name__== '__main__':\n",
    "    lock=threading.Lock()\n",
    "    A=0\n",
    "    t1=threading.Thread(target=job1)\n",
    "    t2=threading.Thread(target=job2)\n",
    "    t1.start()\n",
    "    t2.start()\n",
    "#     t1.join()\n",
    "#     t2.join()"
   ]
  },
  {
   "cell_type": "markdown",
   "metadata": {},
   "source": [
    "# 基本多進程 (processing)"
   ]
  },
  {
   "cell_type": "code",
   "execution_count": 6,
   "metadata": {},
   "outputs": [],
   "source": [
    "#用terminal執行，才會有東西\n",
    "import multiprocessing as mp\n",
    "\n",
    "def job(a,d):\n",
    "    print('aaaaa')\n",
    "def main():\n",
    "    p1 = mp.Process(target=job,args=(1,2))\n",
    "    p1.start()\n",
    "    p1.join()\n",
    "    \n",
    "if __name__=='__main__':\n",
    "    main()\n",
    "    "
   ]
  },
  {
   "cell_type": "markdown",
   "metadata": {},
   "source": [
    "### 進程鎖"
   ]
  },
  {
   "cell_type": "code",
   "execution_count": null,
   "metadata": {},
   "outputs": [],
   "source": [
    "def job(v, num, l):\n",
    "    l.acquire() # 锁住\n",
    "    for _ in range(5):\n",
    "        time.sleep(0.1) \n",
    "        v.value += num # 获取共享内存\n",
    "        print(v.value)\n",
    "    l.release() # 释放\n",
    "\n",
    "def multicore():\n",
    "    l = mp.Lock() # 定义一个进程锁\n",
    "    v = mp.Value('i', 0) # 定义共享内存\n",
    "    p1 = mp.Process(target=job, args=(v,1,l)) # 需要将lock传入\n",
    "    p2 = mp.Process(target=job, args=(v,3,l)) \n",
    "    p1.start()\n",
    "    p2.start()\n",
    "    p1.join()\n",
    "    p2.join()\n",
    "\n",
    "if __name__ == '__main__':\n",
    "    multicore()\n"
   ]
  },
  {
   "cell_type": "markdown",
   "metadata": {},
   "source": [
    "## lock file"
   ]
  },
  {
   "cell_type": "code",
   "execution_count": 7,
   "metadata": {},
   "outputs": [
    {
     "ename": "SyntaxError",
     "evalue": "invalid character in identifier (<ipython-input-7-c863edb6d21c>, line 15)",
     "output_type": "error",
     "traceback": [
      "\u001b[1;36m  File \u001b[1;32m\"<ipython-input-7-c863edb6d21c>\"\u001b[1;36m, line \u001b[1;32m15\u001b[0m\n\u001b[1;33m    def lock(self)：\u001b[0m\n\u001b[1;37m                  ^\u001b[0m\n\u001b[1;31mSyntaxError\u001b[0m\u001b[1;31m:\u001b[0m invalid character in identifier\n"
     ]
    }
   ],
   "source": [
    "import os\n",
    "import sys\n",
    "import time\n",
    "import fcntl #導入模塊\n",
    "\n",
    "class FLOCK(ojbect):\n",
    "    def __init__(self,name):\n",
    "        \"\"\"\n",
    "        :param name: 文件名\n",
    "        \"\"\"\n",
    "\n",
    "        self.fobj = open(name,'w')\n",
    "        self.fd = self.fobj.fileno()\n",
    "\n",
    "    def lock(self)：\n",
    "        try:\n",
    "            fcntl.lockf(sefl.fd,fcntl.LOCK_EX|fcntl.LOCK_NB) #給文件加鎖，使用了fcntl.LOCK_NB\n",
    "            print '給文件加鎖，稍等 ... ...'\n",
    "            time.sleep(20)\n",
    "            return True\n",
    "        except:\n",
    "            print '文件加鎖，無法執行，請稍後運行。'\n",
    "            retrun False\n",
    "\n",
    "    def unlock(self):\n",
    "        self.fobj.close()\n",
    "        print '已解鎖'\n",
    "\n",
    "if __name__ == \"__main__\":\n",
    "    print sys.argv[1]\n",
    "    locker = FLOCK(sys.argv[1])\n",
    "    a = locker.lock()\n",
    "    if a:\n",
    "        print '文件已加鎖'\n",
    "    else:\n",
    "        print '無法執行，程序已鎖定，請稍等'"
   ]
  },
  {
   "cell_type": "code",
   "execution_count": 9,
   "metadata": {},
   "outputs": [
    {
     "ename": "ModuleNotFoundError",
     "evalue": "No module named 'fcntl'",
     "output_type": "error",
     "traceback": [
      "\u001b[1;31m---------------------------------------------------------------------------\u001b[0m",
      "\u001b[1;31mModuleNotFoundError\u001b[0m                       Traceback (most recent call last)",
      "\u001b[1;32m<ipython-input-9-479dd2805e78>\u001b[0m in \u001b[0;36m<module>\u001b[1;34m\u001b[0m\n\u001b[1;32m----> 1\u001b[1;33m \u001b[1;32mimport\u001b[0m \u001b[0mfcntl\u001b[0m\u001b[1;33m\u001b[0m\u001b[1;33m\u001b[0m\u001b[0m\n\u001b[0m\u001b[0;32m      2\u001b[0m \u001b[1;32mfrom\u001b[0m \u001b[0mtime\u001b[0m \u001b[1;32mimport\u001b[0m \u001b[0msleep\u001b[0m\u001b[1;33m\u001b[0m\u001b[1;33m\u001b[0m\u001b[0m\n\u001b[0;32m      3\u001b[0m \u001b[1;33m\u001b[0m\u001b[0m\n\u001b[0;32m      4\u001b[0m \u001b[0mlockfile\u001b[0m \u001b[1;33m=\u001b[0m \u001b[1;34m'./test.txt'\u001b[0m\u001b[1;33m\u001b[0m\u001b[1;33m\u001b[0m\u001b[0m\n\u001b[0;32m      5\u001b[0m \u001b[1;33m\u001b[0m\u001b[0m\n",
      "\u001b[1;31mModuleNotFoundError\u001b[0m: No module named 'fcntl'"
     ]
    }
   ],
   "source": [
    "import fcntl\n",
    "from time import sleep\n",
    "\n",
    "lockfile = './test.txt'\n",
    "\n",
    "try:\n",
    "    f = open(lockfile, 'r')\n",
    "except IOError:\n",
    "    f = open(lockfile, 'wb')\n",
    "\n",
    "try:\n",
    "    fcntl.flock(f, fcntl.LOCK_EX | fcntl.LOCK_NB)\n",
    "    sleep(600)\n",
    "except OSError:\n",
    "    print('locked')\n",
    "finally:\n",
    "    fcntl.flock(f, fcntl.LOCK_UN)"
   ]
  },
  {
   "cell_type": "code",
   "execution_count": null,
   "metadata": {},
   "outputs": [],
   "source": []
  }
 ],
 "metadata": {
  "kernelspec": {
   "display_name": "Python 3",
   "language": "python",
   "name": "python3"
  },
  "language_info": {
   "codemirror_mode": {
    "name": "ipython",
    "version": 3
   },
   "file_extension": ".py",
   "mimetype": "text/x-python",
   "name": "python",
   "nbconvert_exporter": "python",
   "pygments_lexer": "ipython3",
   "version": "3.7.6"
  }
 },
 "nbformat": 4,
 "nbformat_minor": 4
}
