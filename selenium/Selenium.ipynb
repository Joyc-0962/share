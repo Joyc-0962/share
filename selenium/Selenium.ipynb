{
 "cells": [
  {
   "cell_type": "markdown",
   "id": "78f30d08",
   "metadata": {},
   "source": [
    "## 基本使用"
   ]
  },
  {
   "cell_type": "code",
   "execution_count": 51,
   "id": "be3d030f",
   "metadata": {},
   "outputs": [],
   "source": [
    "# 載入需要的套件\n",
    "from selenium import webdriver\n",
    "# 指向 chromedriver 的位置\n",
    "driver = webdriver.Chrome(\".\\chromedriver\")\n",
    "# 打開瀏覽器，開啟網頁\n",
    "driver.get('https://www.google.com')        "
   ]
  },
  {
   "cell_type": "code",
   "execution_count": 52,
   "id": "6b59263b",
   "metadata": {},
   "outputs": [],
   "source": [
    "# 關閉瀏覽器視窗\n",
    "driver.close() "
   ]
  },
  {
   "cell_type": "markdown",
   "id": "f0ab0d26",
   "metadata": {},
   "source": [
    "## 搜尋"
   ]
  },
  {
   "cell_type": "code",
   "execution_count": 58,
   "id": "2241f6be",
   "metadata": {},
   "outputs": [],
   "source": [
    "from selenium import webdriver\n",
    "driver = webdriver.Chrome(\".\\chromedriver\")\n",
    "driver.get('https://www.google.com')        \n",
    "# 定位搜尋框\n",
    "element = driver.find_element_by_class_name(\"gLFyf.gsfi\")\n",
    "# 傳入字串\n",
    "element.send_keys(\"Selenium Python\")"
   ]
  },
  {
   "cell_type": "code",
   "execution_count": 59,
   "id": "5ca576cb",
   "metadata": {},
   "outputs": [],
   "source": [
    "button = driver.find_element_by_class_name(\"gNO89b\")\n",
    "button.click()"
   ]
  },
  {
   "cell_type": "code",
   "execution_count": 60,
   "id": "787fa25a",
   "metadata": {},
   "outputs": [],
   "source": [
    "#前往上一項瀏覽紀錄\n",
    "driver.back()"
   ]
  },
  {
   "cell_type": "markdown",
   "id": "4fe8d9cd",
   "metadata": {},
   "source": [
    "## 範例"
   ]
  },
  {
   "cell_type": "code",
   "execution_count": 65,
   "id": "20d50b23",
   "metadata": {},
   "outputs": [
    {
     "name": "stdout",
     "output_type": "stream",
     "text": [
      "A ( id=\"a\" )\n",
      "B ( class=\"btn\" )\n",
      "C ( class=\"test\" )\n",
      "D ( name=\"dog\" )\n",
      "OXXO\n",
      "GKPen\n",
      "OK\n",
      "Hello\n",
      "大標題\n",
      "我是超連結，點擊會開啟 Google 網站\n",
      "https://www.google.com/\n"
     ]
    }
   ],
   "source": [
    "from selenium import webdriver\n",
    "from selenium.webdriver.support.select import Select   # 使用 Select 對應下拉選單\n",
    "import time\n",
    "\n",
    "driver = webdriver.Chrome('./chromedriver')\n",
    "driver.get('https://example.oxxostudio.tw/python/selenium/demo.html')  # 開啟範例網址\n",
    "a = driver.find_element_by_id('a')             # 取得 id 為 a 的網頁元素 ( 按鈕 A )\n",
    "b = driver.find_element_by_class_name('btn')   # 取得 class 為 btn 的網頁元素 ( 按鈕 B )\n",
    "c = driver.find_element_by_css_selector('.test')  # 取得 class 為 test 的網頁元素 ( 按鈕 C )\n",
    "d = driver.find_element_by_name('dog')     # 取得屬性 name 為 dog 的網頁元素 ( 按鈕 D )\n",
    "\n",
    "h1 = driver.find_element_by_tag_name('h1')  # 取得 tag h1 的網頁元素\n",
    "link1 = driver.find_element_by_link_text('我是超連結，點擊會開啟 Google 網站')  # 取得指定超連結文字的網頁元素\n",
    "link2 = driver.find_element_by_partial_link_text('Google') # 取得超連結文字包含 Google 的網頁元素\n",
    "select = Select(driver.find_element_by_xpath('/html/body/select'))   # 取得 html > body > select 這個網頁元素\n",
    "\n",
    "a.click()        # 點擊 a\n",
    "print(a.text)    # 印出 a 元素的內容\n",
    "time.sleep(0.5)\n",
    "b.click()        # 點擊 b\n",
    "print(b.text)    # 印出 b 元素的內容\n",
    "time.sleep(0.5)\n",
    "c.click()        # 點擊 c\n",
    "print(c.text)    # 印出 c 元素的內容\n",
    "time.sleep(0.5)\n",
    "d.click()        # 點擊 d\n",
    "print(d.text)    # 印出 d 元素的內容\n",
    "time.sleep(0.5)\n",
    "\n",
    "select.select_by_index(2)  # 下拉選單選擇第三項 ( 第一項為 0 )\n",
    "for op in select.options:\n",
    "    print(op.text)\n",
    "time.sleep(0.5)\n",
    "\n",
    "print(h1.text)\n",
    "h1.click()       # 點擊 h1\n",
    "time.sleep(0.5)\n",
    "link1.click()    # 點擊 link1\n",
    "time.sleep(0.5)\n",
    "link2.click()    # 點擊 link2\n",
    "print(link2.text)\n",
    "print(link2.get_attribute('href'))   # 印出 link2 元素的 href 屬性"
   ]
  },
  {
   "cell_type": "markdown",
   "id": "e8eea934",
   "metadata": {},
   "source": [
    "## 範例二 "
   ]
  },
  {
   "cell_type": "markdown",
   "id": "ab081918",
   "metadata": {},
   "source": [
    "### 針對指定元素呼叫方法"
   ]
  },
  {
   "cell_type": "code",
   "execution_count": 66,
   "id": "04d89dd7",
   "metadata": {},
   "outputs": [],
   "source": [
    "from selenium import webdriver\n",
    "from time import sleep\n",
    "\n",
    "driver = webdriver.Chrome('./chromedriver')\n",
    "driver.get('https://example.oxxostudio.tw/python/selenium/demo.html')\n",
    "a = driver.find_element_by_id('a')\n",
    "add = driver.find_element_by_id('add')\n",
    "a.click()     # 點擊按鈕 A，出現 a 文字\n",
    "sleep(1)\n",
    "add.click()   # 點擊 add 按鈕，出現 數字 1\n",
    "sleep(1)\n",
    "add.click()   # 點擊 add 按鈕，出現 數字 2\n",
    "sleep(1)\n",
    "add.click()   # 點擊 add 按鈕，出現 數字 3\n",
    "add.click()   # 點擊 add 按鈕，出現 數字 4"
   ]
  },
  {
   "cell_type": "markdown",
   "id": "12cf5026",
   "metadata": {},
   "source": [
    "### ActionChains"
   ]
  },
  {
   "cell_type": "code",
   "execution_count": 67,
   "id": "2f7493b8",
   "metadata": {},
   "outputs": [],
   "source": [
    "from selenium import webdriver\n",
    "from selenium.webdriver.common.action_chains import ActionChains\n",
    "\n",
    "driver = webdriver.Chrome('./chromedriver')\n",
    "driver.get('https://example.oxxostudio.tw/python/selenium/demo.html')\n",
    "a = driver.find_element_by_id('a')\n",
    "add = driver.find_element_by_id('add')\n",
    "actions = ActionChains(driver)   # 使用 ActionChains 的方式\n",
    "actions.click(a).pause(1)        # 點擊按鈕 A，出現 a 文字後，暫停一秒\n",
    "actions.click(add).pause(1).click(add).pause(1).double_click(add)\n",
    "# 等待一秒後點擊add，等待一秒後再次點擊，連點 add 按鈕\n",
    "actions.perform()  # 執行儲存的動作"
   ]
  },
  {
   "cell_type": "markdown",
   "id": "9f1b1de7",
   "metadata": {},
   "source": [
    "## ActionChains 2"
   ]
  },
  {
   "cell_type": "code",
   "execution_count": 68,
   "id": "4bcc9c78",
   "metadata": {},
   "outputs": [],
   "source": [
    "from selenium import webdriver\n",
    "from selenium.webdriver.common.action_chains import ActionChains\n",
    "\n",
    "driver = webdriver.Chrome('./chromedriver')\n",
    "driver.get('https://example.oxxostudio.tw/python/selenium/demo.html')\n",
    "a = driver.find_element_by_id('a')\n",
    "show = driver.find_element_by_id('show')\n",
    "actions = ActionChains(driver)\n",
    "actions.click(show).send_keys(['1','2','3','4','5'])    # 輸入 1～5 的鍵盤值 ( 必須是字串 )\n",
    "actions.pause(1)    # 等待一秒\n",
    "actions.click(a)    # 點擊按鈕 A\n",
    "actions.pause(1)    # 等待一秒\n",
    "actions.send_keys_to_element(show, ['A','B','C','D','E'])   # # 輸入 A～E 的鍵盤值\n",
    "actions.perform()   # 送出動作"
   ]
  },
  {
   "cell_type": "markdown",
   "id": "e5f3baca",
   "metadata": {},
   "source": [
    "## 範例三"
   ]
  },
  {
   "cell_type": "code",
   "execution_count": 69,
   "id": "3f2efdd2",
   "metadata": {},
   "outputs": [
    {
     "name": "stdout",
     "output_type": "stream",
     "text": [
      "44c532c1-aaad-464f-8233-3e87f14c8847\n",
      "B ( class=\"btn\" )\n",
      "button\n",
      "{'height': 42, 'width': 147}\n",
      "https://www.google.com/\n",
      "_blank\n"
     ]
    },
    {
     "data": {
      "text/plain": [
       "True"
      ]
     },
     "execution_count": 69,
     "metadata": {},
     "output_type": "execute_result"
    }
   ],
   "source": [
    "from selenium import webdriver\n",
    "\n",
    "driver = webdriver.Chrome('./chromedriver')\n",
    "driver.get('https://example.oxxostudio.tw/python/selenium/demo.html')\n",
    "body = driver.find_element_by_tag_name('body')\n",
    "a = driver.find_element_by_id('a')\n",
    "b = driver.find_element_by_class_name('btn')\n",
    "c = driver.find_element_by_css_selector('.test')\n",
    "d = driver.find_element_by_name('dog')\n",
    "link1 = driver.find_element_by_link_text('我是超連結，點擊會開啟 Google 網站')\n",
    "link2 = driver.find_element_by_partial_link_text('Google')\n",
    "\n",
    "print(a.id)\n",
    "print(b.text)\n",
    "print(c.tag_name)\n",
    "print(d.size)\n",
    "print(link1.get_attribute('href'))\n",
    "print(link2.get_attribute('target'))\n",
    "body.screenshot('./test.png')\n",
    "d.screenshot('./test1.png')"
   ]
  },
  {
   "cell_type": "code",
   "execution_count": null,
   "id": "12375698",
   "metadata": {},
   "outputs": [],
   "source": []
  }
 ],
 "metadata": {
  "kernelspec": {
   "display_name": "selenium",
   "language": "python",
   "name": "selenium"
  },
  "language_info": {
   "codemirror_mode": {
    "name": "ipython",
    "version": 3
   },
   "file_extension": ".py",
   "mimetype": "text/x-python",
   "name": "python",
   "nbconvert_exporter": "python",
   "pygments_lexer": "ipython3",
   "version": "3.6.13"
  }
 },
 "nbformat": 4,
 "nbformat_minor": 5
}
